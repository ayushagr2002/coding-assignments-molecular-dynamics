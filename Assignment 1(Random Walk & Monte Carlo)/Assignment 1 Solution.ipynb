{
 "cells": [
  {
   "cell_type": "markdown",
   "id": "69a3a5e3",
   "metadata": {},
   "source": [
    "## Assignment 1\n",
    "Name : Ayush Agrawal <br>\n",
    "Roll No: 2020101025"
   ]
  },
  {
   "cell_type": "markdown",
   "id": "879d4fd3",
   "metadata": {},
   "source": [
    "### Task0: Simulate a random walk for n timesteps\n",
    "Make a function that takes n as an input and runs a 1-D random walk for n timesteps, and returns us the\n",
    "coordinates of the point at all timesteps. Also plot the graph of position x vs t."
   ]
  },
  {
   "cell_type": "code",
   "execution_count": 1,
   "id": "117e18a8",
   "metadata": {},
   "outputs": [
    {
     "name": "stdout",
     "output_type": "stream",
     "text": [
      "Enter n: 10\n",
      "Timestep:  0 Position:  0\n",
      "Timestep:  1 Position:  1\n",
      "Timestep:  2 Position:  0\n",
      "Timestep:  3 Position:  1\n",
      "Timestep:  4 Position:  2\n",
      "Timestep:  5 Position:  3\n",
      "Timestep:  6 Position:  2\n",
      "Timestep:  7 Position:  3\n",
      "Timestep:  8 Position:  4\n",
      "Timestep:  9 Position:  5\n",
      "Timestep:  10 Position:  4\n"
     ]
    }
   ],
   "source": [
    "import numpy as np\n",
    "import matplotlib.pyplot as plt\n",
    "import random\n",
    "\n",
    "n = int(input(\"Enter n: \"))\n",
    "\n",
    "step = [\"RIGHT\" , \"LEFT\"]\n",
    "\n",
    "def random_walk(n):\n",
    "    positions = [0]\n",
    "    y=0\n",
    "    for i in range(1, n+1):\n",
    "        steptaken = random.choice(step)\n",
    "        if(steptaken == \"RIGHT\"):\n",
    "            y = y+1\n",
    "        else:\n",
    "            y = y-1\n",
    "        positions.append(y)\n",
    "    return positions\n",
    "\n",
    "timesteps = np.arange(0, n+1, 1)\n",
    "positionarr = np.array(random_walk(n), dtype=np.int64)\n",
    "\n",
    "for i in range(0, n+1):\n",
    "    print(\"Timestep: \", timesteps[i], \"Position: \", positionarr[i])\n",
    "\n"
   ]
  },
  {
   "cell_type": "markdown",
   "id": "99f98d6b",
   "metadata": {},
   "source": [
    "### Plot of Position(x) vs Timesteps(t):"
   ]
  },
  {
   "cell_type": "code",
   "execution_count": 2,
   "id": "1ca95daf",
   "metadata": {},
   "outputs": [
    {
     "data": {
      "image/png": "[encoded data removed]",
      "text/plain": [
       "<Figure size 432x288 with 1 Axes>"
      ]
     },
     "metadata": {
      "needs_background": "light"
     },
     "output_type": "display_data"
    },
    {
     "data": {
      "text/plain": [
       "<Figure size 432x288 with 0 Axes>"
      ]
     },
     "metadata": {},
     "output_type": "display_data"
    }
   ],
   "source": [
    "plt.plot(timesteps, positionarr)\n",
    "plt.xlabel('Timesteps(t)')\n",
    "plt.ylabel('Position(x)')\n",
    "plt.show()\n",
    "plt.savefig('task0.png')"
   ]
  },
  {
   "cell_type": "markdown",
   "id": "c6d10abd",
   "metadata": {},
   "source": [
    "### Task 1: Simulate a random walk with two people"
   ]
  },
  {
   "cell_type": "markdown",
   "id": "f4ac90d7",
   "metadata": {},
   "source": [
    "Two drunks start out together at the origin, each having equal probability of making a step to the left or right\n",
    "along the X-axis. They make their steps simultaneously. Simulate the experiment appropriate number of times\n",
    "and answer the following parts:"
   ]
  },
  {
   "cell_type": "markdown",
   "id": "ec699a51",
   "metadata": {},
   "source": [
    "#### Part 1: Find the Probability that they meet again after N timesteps by running the simulation multiple times and plot the probability for different values of N."
   ]
  },
  {
   "cell_type": "markdown",
   "id": "5ce3f6b2",
   "metadata": {},
   "source": [
    "Assumption: The simulation is run for 5000 times for the given input n. A counter 'cnt' keeps track of how many times the positions of the two people were same in all the trials. The probability is then given as cnt/5000."
   ]
  },
  {
   "cell_type": "code",
   "execution_count": 3,
   "id": "abade84f",
   "metadata": {},
   "outputs": [
    {
     "name": "stdout",
     "output_type": "stream",
     "text": [
      "Enter n: 10\n",
      "Probability of meeting after 10 steps:  0.1742\n"
     ]
    }
   ],
   "source": [
    "import numpy as np\n",
    "import matplotlib.pyplot as plt\n",
    "import random\n",
    "\n",
    "n = int(input(\"Enter n: \"))\n",
    "y1 = 0\n",
    "y2 = 0\n",
    "probarr = []\n",
    "step = [\"RIGHT\", \"LEFT\"]\n",
    "\n",
    "trials = 5000\n",
    "cnt = 0\n",
    "\n",
    "\n",
    "for j in range(1, trials+1):\n",
    "    y1 = 0\n",
    "    y2 = 0\n",
    "    for i in range(1, n+1):\n",
    "        steptaken = random.choice(step)\n",
    "        if(steptaken == \"RIGHT\"):\n",
    "            y1 = y1+1\n",
    "        else:\n",
    "            y1 = y1-1\n",
    "\n",
    "        steptaken = random.choice(step)\n",
    "        if(steptaken == \"RIGHT\"):\n",
    "            y2 = y2+1\n",
    "        else:\n",
    "            y2 = y2-1\n",
    "    if(y1 == y2):\n",
    "        cnt = cnt + 1\n",
    "\n",
    "print(\"Probability of meeting after\", n, \"steps: \", cnt/trials)"
   ]
  },
  {
   "cell_type": "markdown",
   "id": "81cb8143",
   "metadata": {},
   "source": [
    "### Plot\n",
    "The probability for each value of n is calculated by repeating that walk 20000 times. The plot shows the number of steps vs probability of meeting for n = 0 to 50 steps. The probability decreases exponentially as n increases."
   ]
  },
  {
   "cell_type": "code",
   "execution_count": 4,
   "id": "0121193a",
   "metadata": {},
   "outputs": [
    {
     "data": {
      "image/png": "[encoded data removed]",
      "text/plain": [
       "<Figure size 432x288 with 1 Axes>"
      ]
     },
     "metadata": {
      "needs_background": "light"
     },
     "output_type": "display_data"
    }
   ],
   "source": [
    "probarr = []\n",
    "trials = 20000\n",
    "for nsteps in range(0, 51):\n",
    "    cnt = 0\n",
    "    for j in range(1, trials+1):\n",
    "        y1 = 0\n",
    "        y2 = 0\n",
    "        for i in range(1, nsteps+1):\n",
    "            steptaken = random.choice(step)\n",
    "            if(steptaken == \"RIGHT\"):\n",
    "                y1 = y1+1\n",
    "            else:\n",
    "                y1 = y1-1\n",
    "\n",
    "            steptaken = random.choice(step)\n",
    "            if(steptaken == \"RIGHT\"):\n",
    "                y2 = y2+1\n",
    "            else:\n",
    "                y2 = y2-1\n",
    "        if(y1 == y2):\n",
    "            cnt = cnt + 1\n",
    "    probarr.append(cnt/trials)\n",
    "steps = np.arange(0, 51, 1)\n",
    "\n",
    "plt.plot(steps, probarr)\n",
    "plt.xlabel('No of Steps')\n",
    "plt.ylabel('Probability of meeting')\n",
    "plt.show()"
   ]
  },
  {
   "cell_type": "markdown",
   "id": "5b1ccf2b",
   "metadata": {},
   "source": [
    "#### Part2: Simulate the random walk of a single drunk person and find the probability that he/she returns back to the Origin after N timesteps. Plot the probabilities for different values of N."
   ]
  },
  {
   "cell_type": "markdown",
   "id": "eaed431f",
   "metadata": {},
   "source": [
    "Assumption: The walk is simulated 5000 times for a given input N. A counter 'cnt' keeps track of how many times the person ended up at origin in all the trials. The probability is then given as cnt/5000"
   ]
  },
  {
   "cell_type": "code",
   "execution_count": 5,
   "id": "6d81b160",
   "metadata": {},
   "outputs": [
    {
     "name": "stdout",
     "output_type": "stream",
     "text": [
      "Enter n: 90\n",
      "Probability of returning back to origin after 90 steps:  0.0834\n"
     ]
    }
   ],
   "source": [
    "n = int(input(\"Enter n: \"))\n",
    "y1 = 0\n",
    "y2 = 0\n",
    "\n",
    "step = [\"RIGHT\", \"LEFT\"]\n",
    "\n",
    "trials = 5000\n",
    "cnt = 0\n",
    "\n",
    "for j in range(1, trials+1):\n",
    "    y = 0\n",
    "    for i in range(1, n+1):\n",
    "        steptaken = random.choice(step)\n",
    "        if(steptaken == \"RIGHT\"):\n",
    "            y = y+1\n",
    "        else:\n",
    "            y = y-1\n",
    "    if(y == 0):\n",
    "        cnt = cnt + 1\n",
    "\n",
    "print(\"Probability of returning back to origin after\",n,\"steps: \", cnt/trials)"
   ]
  },
  {
   "cell_type": "markdown",
   "id": "52df1f15",
   "metadata": {},
   "source": [
    "### Plot"
   ]
  },
  {
   "cell_type": "markdown",
   "id": "06d23ede",
   "metadata": {},
   "source": [
    "The probability for each value of n is calculated by repeating that walk 5000 times.The plot shows the number of steps vs probability of returning at origin for n = 0 to 50 steps. For even n, The probability decreases exponentially as n increases and for odd n, the probability is always 0. Therefore, the drunkard cannot return to origin after taking an odd number of steps."
   ]
  },
  {
   "cell_type": "code",
   "execution_count": 6,
   "id": "857e0bcb",
   "metadata": {},
   "outputs": [
    {
     "data": {
      "image/png": "[encoded data removed]",
      "text/plain": [
       "<Figure size 432x288 with 1 Axes>"
      ]
     },
     "metadata": {
      "needs_background": "light"
     },
     "output_type": "display_data"
    }
   ],
   "source": [
    "probarr = []\n",
    "for nsteps in range(0, 51):\n",
    "    cnt = 0\n",
    "    for j in range(1, trials+1):\n",
    "        y = 0\n",
    "        for i in range(1, nsteps+1):\n",
    "            steptaken = random.choice(step)\n",
    "            if(steptaken == \"RIGHT\"):\n",
    "                y = y+1\n",
    "            else:\n",
    "                y = y-1\n",
    "        if(y == 0):\n",
    "            cnt = cnt + 1\n",
    "    probarr.append(cnt/trials)\n",
    "\n",
    "steps = np.arange(0, 51, 1)\n",
    "plt.xlabel('No of Steps')\n",
    "plt.ylabel('Probability of returning at origin')\n",
    "plt.plot(steps, probarr)\n",
    "plt.show()"
   ]
  },
  {
   "cell_type": "markdown",
   "id": "1f4db38a",
   "metadata": {},
   "source": [
    "#### Part 3: Find the Mean and Mean Squared Displacement for the drunk after N steps. Perform the experiment multiple times and find these central tendencies for N time steps."
   ]
  },
  {
   "cell_type": "markdown",
   "id": "47275dc9",
   "metadata": {},
   "source": [
    "Assumption: The displacement is calculated 30000 times for the given value of n. Then the mean displacement is the mean of these 30000 values. The mean square displacement is calculated by first squaring each of these 30000 values and then taking the mean of it."
   ]
  },
  {
   "cell_type": "code",
   "execution_count": 7,
   "id": "b1556094",
   "metadata": {},
   "outputs": [
    {
     "name": "stdout",
     "output_type": "stream",
     "text": [
      "Enter n: 100\n",
      "Mean Displacement:  0.04133195560147995\n",
      "Mean Square Displacement:  100.74864171194294\n"
     ]
    }
   ],
   "source": [
    "n = int(input(\"Enter n: \"))\n",
    "y = 0\n",
    "step = [\"RIGHT\", \"LEFT\"]\n",
    "trials = 30000\n",
    "finalpos = [0]\n",
    "\n",
    "for j in range(1, trials+1):\n",
    "    y=0\n",
    "    for i in range(1, n+1):\n",
    "        steptaken = random.choice(step)\n",
    "        if(steptaken == \"RIGHT\"):\n",
    "            y = y+1\n",
    "        else:\n",
    "            y = y-1\n",
    "    finalpos.append(y)\n",
    "\n",
    "positionarr = np.array(finalpos)\n",
    "meandisp = np.mean(positionarr)\n",
    "meansqrdisp = np.mean(np.square(positionarr))\n",
    "print(\"Mean Displacement: \",meandisp)\n",
    "print(\"Mean Square Displacement: \", meansqrdisp)"
   ]
  },
  {
   "cell_type": "markdown",
   "id": "886ee766",
   "metadata": {},
   "source": [
    "### Plot"
   ]
  },
  {
   "cell_type": "markdown",
   "id": "6f4914d5",
   "metadata": {},
   "source": [
    "The plot is generated by repeating the walk 30000 times for each value of N. The mean displacement is the mean of these 30000 values for each N. The mean square displacement is obtained by first squaring these values and then taking mean of it.\n",
    "- We observe that the mean displacement is close to 0 for all values of N. Therefore, the average displacement of the man is 0.\n",
    "- We observe that the mean square displacement varies linearly with N. Moreover, it is of the form y = x."
   ]
  },
  {
   "cell_type": "code",
   "execution_count": 8,
   "id": "075a23b6",
   "metadata": {
    "scrolled": false
   },
   "outputs": [
    {
     "data": {
      "image/png": "[encoded data removed]",
      "text/plain": [
       "<Figure size 432x288 with 1 Axes>"
      ]
     },
     "metadata": {
      "needs_background": "light"
     },
     "output_type": "display_data"
    },
    {
     "data": {
      "image/png": "[encoded data removed]",
      "text/plain": [
       "<Figure size 432x288 with 1 Axes>"
      ]
     },
     "metadata": {
      "needs_background": "light"
     },
     "output_type": "display_data"
    }
   ],
   "source": [
    "meanpos = []\n",
    "meansquaredpos = []\n",
    "trials = 30000\n",
    "for nsteps in range(0, 51):\n",
    "    finalpos = []\n",
    "    for j in range(1, trials+1):\n",
    "        y=0\n",
    "        for i in range(1, nsteps+1):\n",
    "            steptaken = random.choice(step)\n",
    "            if(steptaken == \"RIGHT\"):\n",
    "                y = y+1\n",
    "            else:\n",
    "                y = y-1\n",
    "        finalpos.append(y)\n",
    "    squaredpos = np.square(finalpos)\n",
    "    meanpos.append(np.mean(finalpos))\n",
    "    meansquaredpos.append(np.mean(squaredpos))\n",
    "    \n",
    "plt.plot(np.arange(0, 51, 1), meanpos)\n",
    "plt.yticks(range(-2,3))\n",
    "plt.xlabel('No of Steps')\n",
    "plt.ylabel('Mean Displacement')\n",
    "plt.show()\n",
    "\n",
    "plt.plot(np.arange(0, 51, 1), meansquaredpos, 'b-')\n",
    "plt.xlabel('No of Steps')\n",
    "plt.ylabel('Mean Square Displacement')\n",
    "plt.show()"
   ]
  },
  {
   "cell_type": "markdown",
   "id": "301f50bb",
   "metadata": {},
   "source": [
    "## Task 2"
   ]
  },
  {
   "cell_type": "markdown",
   "id": "02234afe",
   "metadata": {},
   "source": [
    "Consider a unit circle and unit square as shown in the figure. You have been given N point pebbles. Simulate an experiment to determine the value of π using these inputs. And write a code to find π."
   ]
  },
  {
   "cell_type": "markdown",
   "id": "414b714f",
   "metadata": {},
   "source": [
    "<img src=\"./montecarlo.png\">"
   ]
  },
  {
   "cell_type": "markdown",
   "id": "fce8675b",
   "metadata": {},
   "source": [
    "Monte-Carlo Simulations are experiments or computational algorithms that rely on sampling of random numbers. An experiment or a simulation of random numbers is repeated a large number of times to estimate something that may be determined deterministically as well (for eg. PI)\n",
    "### Experiment:\n",
    "We throw the n pebbles into the unit square area. It may either fall into the area of circle or outside the area of circle. We count the number of pebbles that fell in the area of circle and the total number of pebbles we threw. The probability that the pebble will fall inside the circle is then equal to: \n",
    "No of pebbles that fell inside the circle/ total number of pebbles.\n",
    "Also we know that the probability that the pebble will fall inside the circle: Area of quadrant of circle/ area of square = (πr^2/4)/(1^2) = π/4\n",
    "Therefore, π = 4 * No of pebbles that fell inside the circle/ total number of pebbles.\n",
    "According to law of large numbers, the higher the number of pebbles, the more accurate is the calculate value of π."
   ]
  },
  {
   "cell_type": "markdown",
   "id": "144582cc",
   "metadata": {},
   "source": [
    "### Code"
   ]
  },
  {
   "cell_type": "code",
   "execution_count": 9,
   "id": "46a186ef",
   "metadata": {},
   "outputs": [
    {
     "name": "stdout",
     "output_type": "stream",
     "text": [
      "Enter n: 10000\n",
      "Value of PI:  3.1316\n"
     ]
    }
   ],
   "source": [
    "import random\n",
    "import matplotlib.pyplot as plt\n",
    "import numpy as np\n",
    "\n",
    "n = int(input(\"Enter n: \"))\n",
    "prob = []\n",
    "circlepos = 0\n",
    "for j in range(n):\n",
    "    point = [random.random(), random.random()]\n",
    "    if(point[0]**2 + point[1]**2 <= 1.00):\n",
    "        circlepos = circlepos + 1\n",
    "\n",
    "prob.append(float(circlepos/n))\n",
    "\n",
    "meanprob = np.mean(prob)\n",
    "pi = 4*meanprob\n",
    "\n",
    "print(\"Value of PI: \", pi)"
   ]
  },
  {
   "cell_type": "markdown",
   "id": "0dc6eb6f",
   "metadata": {},
   "source": [
    "### Plot"
   ]
  },
  {
   "cell_type": "code",
   "execution_count": 10,
   "id": "85a00336",
   "metadata": {},
   "outputs": [
    {
     "data": {
      "image/png": "[encoded data removed]",
      "text/plain": [
       "<Figure size 432x288 with 1 Axes>"
      ]
     },
     "metadata": {
      "needs_background": "light"
     },
     "output_type": "display_data"
    }
   ],
   "source": [
    "valpi = []\n",
    "\n",
    "for i in range(1, 5000):\n",
    "    prob = []\n",
    "    circlepos = 0\n",
    "    for k in range(i):\n",
    "        point = [random.random(), random.random()]\n",
    "        if(point[0]**2 + point[1]**2 <= 1.00):\n",
    "            circlepos = circlepos + 1\n",
    "    prob.append(float(circlepos/i))\n",
    "    valpi.append(4*np.mean(prob))\n",
    "\n",
    "plt.plot(np.arange(1, 5000, 1), valpi)\n",
    "plt.axhline(y = 3.1415926535, color = 'r', linestyle = '-', label=\"True Value\")\n",
    "plt.xlabel(\"No of Pebbles\")\n",
    "plt.ylabel(\"Value of Pi\")\n",
    "plt.legend()\n",
    "plt.show()"
   ]
  },
  {
   "cell_type": "code",
   "execution_count": null,
   "id": "40801587",
   "metadata": {},
   "outputs": [],
   "source": []
  }
 ],
 "metadata": {
  "kernelspec": {
   "display_name": "Python 3 (ipykernel)",
   "language": "python",
   "name": "python3"
  },
  "language_info": {
   "codemirror_mode": {
    "name": "ipython",
    "version": 3
   },
   "file_extension": ".py",
   "mimetype": "text/x-python",
   "name": "python",
   "nbconvert_exporter": "python",
   "pygments_lexer": "ipython3",
   "version": "3.8.10"
  }
 },
 "nbformat": 4,
 "nbformat_minor": 5
}
